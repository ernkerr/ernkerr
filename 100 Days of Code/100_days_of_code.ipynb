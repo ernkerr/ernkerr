{
 "cells": [
  {
   "cell_type": "markdown",
   "metadata": {},
   "source": [
    "# 100 Days of Code"
   ]
  },
  {
   "cell_type": "markdown",
   "metadata": {},
   "source": [
    "### Day 1: printing, string manipulation and variables "
   ]
  },
  {
   "cell_type": "markdown",
   "metadata": {},
   "source": [
    "- \\n will print the message on two different lines of code\n",
    "\n",
    "- input() will allow us or a user to give our code some data to work with \n",
    "\n",
    "variable naming: \n",
    "- separate words with _ (snake case) \n",
    "- BigWord (CamelCase)\n",
    "- can use numbers but not at the beginning of the name\n",
    "- bad practice: variables that are the same name as function"
   ]
  },
  {
   "cell_type": "code",
   "execution_count": 18,
   "metadata": {},
   "outputs": [
    {
     "name": "stdout",
     "output_type": "stream",
     "text": [
      "So you want to be a DJ?\n",
      "You've come to the right place\n",
      "Welcome to the DJ name generator.\n",
      "Your DJ name could be ..Toca London\n"
     ]
    }
   ],
   "source": [
    "# Day 1 Project: DJ Name Generator\n",
    "\n",
    "# create a greeting for the program\n",
    "print(\"So you want to be a DJ?\\nYou've come to the right place\\nWelcome to the DJ name generator.\" )\n",
    "\n",
    "# ask the user a question\n",
    "city = input(\"Which city did you grow up in? \")\n",
    "\n",
    "# ask the user for the name of their pet\n",
    "pet = input(\"What is the name of your pet? \")\n",
    "\n",
    "# generate their DJ name\n",
    "print(\"Your DJ name could be ..\" + pet + \" \" + city) "
   ]
  },
  {
   "cell_type": "markdown",
   "metadata": {},
   "source": [
    "### Day 2: data types, numbers, operations, type conversions, f-strings"
   ]
  },
  {
   "cell_type": "markdown",
   "metadata": {},
   "source": [
    "- Coders always start at 0, not 1\n",
    "- Can subscript characters if they are stored as a string\n",
    "- ex: \n",
    "\n",
    "     print(“Hello”[4])\n",
    "\n",
    "     o\n",
    "\n",
    "- to toggle booleans use ~\n",
    "\n",
    "#### Type Error, Type Checking, and Type Conversions \n",
    "\n",
    "- print(type()) will tell you what type of data the variable in the () is\n",
    "- type Conversions: str() will convert the variable as a string, int(), etc.\n",
    "\n",
    "#### Mathematical Operations: \n",
    "- +, -, * , /, ** (Exponents)\n",
    "- division will always give you a float but ground division // will give you an int\n",
    "- PEDMAS: except multiplication/division (it will run whatever is the left most)\n",
    "\n",
    "#### f-Strings : allow you to use multiple data types in a string\n",
    "- print(f“Message {variable}”)\n",
    "- Add the character f in front of the string, add variable in {}\n",
    "\n",
    "\"{:.2f}\".format(bill_per_person) \n",
    "\n"
   ]
  },
  {
   "cell_type": "code",
   "execution_count": 19,
   "metadata": {},
   "outputs": [
    {
     "name": "stdout",
     "output_type": "stream",
     "text": [
      "Welcome to the tip calculator!\n",
      "Each person should pay: $32.45\n"
     ]
    }
   ],
   "source": [
    "# Day 2 Project: Tip Calculator \n",
    "\n",
    "print(\"Welcome to the tip calculator!\")\n",
    "bill = float(input(\"What was the total bill? $\"))\n",
    "tip = int(input(\"What percentage tip would you like to give? 15, 18, or 20? \"))\n",
    "people = int(input(\"How many people will be splitting the bil? \"))\n",
    "\n",
    "tip_as_percentage = tip / 100\n",
    "total_tip_amount = bill * tip_as_percentage\n",
    "\n",
    "total_bill = bill + total_tip_amount\n",
    "bill_per_person = total_bill / people\n",
    "final_amount = round(bill_per_person, 2)\n",
    "# “{:.2f}” .format(variable) gives us the second decimal point, even if it doesn’t exist\n",
    "\n",
    "final_amount = \"{:.2f}\".format(bill_per_person)\n",
    "print(f\"Each person should pay: ${final_amount:}\")\n"
   ]
  },
  {
   "cell_type": "markdown",
   "metadata": {},
   "source": [
    "### Day 3: Conditional Statements, Logical Operations, Code Blocks and Scope"
   ]
  },
  {
   "cell_type": "markdown",
   "metadata": {},
   "source": [
    "#### nested if statements: \n",
    "if condition: \n",
    "\n",
    "- if another condition: \n",
    "    \n",
    "    do this\n",
    "\n",
    "- else: \n",
    "    \n",
    "    do this\n",
    "\n",
    "else: \n",
    "\n",
    "- do this\n",
    "\n",
    "#### elif (else if) statements: Once the condition has passed, we can check for another condition \n",
    "\n",
    "if condition 1: \n",
    "- do A\n",
    "\n",
    "elif condition 2: \n",
    "- do B\n",
    "\n",
    "else: \n",
    "- do C"
   ]
  },
  {
   "cell_type": "code",
   "execution_count": 28,
   "metadata": {},
   "outputs": [
    {
     "name": "stdout",
     "output_type": "stream",
     "text": [
      "You can ride the rollercoaster!\n"
     ]
    }
   ],
   "source": [
    "height = int(input('What is your height in cm? '))\n",
    "if height > 120: \n",
    "   print('You can ride the rollercoaster!')\n",
    "else: \n",
    "   print('Sorry you can not ride the rollercoaster.') \n"
   ]
  },
  {
   "cell_type": "code",
   "execution_count": 20,
   "metadata": {},
   "outputs": [
    {
     "name": "stdout",
     "output_type": "stream",
     "text": [
      "You can ride the rollercoaster!\n",
      "Please pay $12\n"
     ]
    }
   ],
   "source": [
    "# Day 3 Project: Roller Coaster Ride\n",
    "if height >= 120: \n",
    "   print('You can ride the rollercoaster!' )\n",
    "   age = int(input('What is your age? '))\n",
    "   if age < 12:\n",
    "     print('Please pay $5.')\n",
    "   elif age <= 18:\n",
    "     print('Please pay $7.')\n",
    "   else:\n",
    "     print('Please pay $12')\n",
    "else:\n",
    "   print('Sorry, you have to grow taller before you can ride.')"
   ]
  },
  {
   "cell_type": "markdown",
   "metadata": {},
   "source": [
    "#### Comparison Operators: \n",
    "- (>)  Greater than \n",
    "- (>)  Less than\n",
    "- (>=) Greater than or equal to\n",
    "- (<=) Less than or equal to\n",
    "- (==) Equal to\n",
    "- (!=) Not equal to\n",
    "- % modulo: will give you the remainder after division (ex: 6 / 2 = 3) (6 % 2 = 0) (5 % 2 = 1)\n",
    "- += (bill = bill + 3 is the same as bill += 3) \n"
   ]
  },
  {
   "cell_type": "code",
   "execution_count": 30,
   "metadata": {},
   "outputs": [
    {
     "name": "stdout",
     "output_type": "stream",
     "text": [
      "2004 is a leap year!\n"
     ]
    }
   ],
   "source": [
    "# Day 3 Project: Checking for Leap Year \n",
    "year = int(input(\"Welcome to the leap year calculator! Please enter the year you want to check \"))\n",
    "if year % 4 == 0: \n",
    "    if year % 100 == 0:\n",
    "        if year % 400 == 0:\n",
    "            print(f\"{year} is not a leap year\")\n",
    "    else: \n",
    "        print(f\"{year} is a leap year!\")\n",
    "else: \n",
    "    print(f\"{year} is not leap year\")"
   ]
  },
  {
   "cell_type": "markdown",
   "metadata": {},
   "source": [
    "#### Logical Operators: \n",
    "and: \n",
    "- A and B\n",
    "- both need to be true for the line to be true\n",
    "- A and B conditions both need to be met\n",
    "\n",
    "or: \n",
    "- C or D \n",
    "- if only one condition needs to be true for the whole thing to be true\n",
    "- either C or D need to be true for the whole \n",
    "- only when both C and D are false that the statement becomes false\n",
    "\n",
    "not: \n",
    "- not E\n",
    "- revesed a condition (if it's true it becomes false, etc.)\n",
    "\n"
   ]
  },
  {
   "cell_type": "code",
   "execution_count": 31,
   "metadata": {},
   "outputs": [
    {
     "name": "stdout",
     "output_type": "stream",
     "text": [
      "\n",
      "*******************************************************************************\n",
      "          |                   |                  |                     |\n",
      " _________|________________.=\"\"_;=.______________|_____________________|_______\n",
      "|                   |  ,-\"_,=\"\"     `\"=.|                  |\n",
      "|___________________|__\"=._o`\"-._        `\"=.______________|___________________\n",
      "          |                `\"=._o`\"=._      _`\"=._                     |\n",
      " _________|_____________________:=._o \"=._.\"_.-=\"'\"=.__________________|_______\n",
      "|                   |    __.--\" , ; `\"=._o.\" ,-\"\"\"-._ \".   |\n",
      "|___________________|_._\"  ,. .` ` `` ,  `\"-._\"-._   \". '__|___________________\n",
      "          |           |o`\"=._` , \"` `; .\". ,  \"-._\"-._; ;              |\n",
      " _________|___________| ;`-.o`\"=._; .\" ` '`.\"\\` . \"-._ /_______________|_______\n",
      "|                   | |o;    `\"-.o`\"=._``  '` \" ,__.--o;   |\n",
      "|___________________|_| ;     (#) `-.o `\"=.`_.--\"_o.-; ;___|___________________\n",
      "____/______/______/___|o;._    \"      `\".o|o_.--\"    ;o;____/______/______/____\n",
      "/______/______/______/_\"=._o--._        ; | ;        ; ;/______/______/______/_\n",
      "____/______/______/______/__\"=._o--._   ;o|o;     _._;o;____/______/______/____\n",
      "/______/______/______/______/____\"=._o._; | ;_.--\"o.--\"_/______/______/______/_\n",
      "____/______/______/______/______/_____\"=.o|o_.--\"\"___/______/______/______/____\n",
      "/______/______/______/______/______/______/______/______/______/______/_______\n",
      "*******************************************************************************\n",
      "\n",
      "Welcome to Treasure Island.\n",
      "Your mission is to find the treasure.\n",
      "You got attacked by an angry trout. Game Over.\n"
     ]
    }
   ],
   "source": [
    "# Day 3 Project: Choose your own adventure book \n",
    "print (\"\"\"\n",
    "*******************************************************************************\n",
    "          |                   |                  |                     |\n",
    " _________|________________.=\\\"\\\"_;=.______________|_____________________|_______\n",
    "|                   |  ,-\\\"_,=\\\"\\\"     `\\\"=.|                  |\n",
    "|___________________|__\\\"=._o`\\\"-._        `\\\"=.______________|___________________\n",
    "          |                `\\\"=._o`\\\"=._      _`\\\"=._                     |\n",
    " _________|_____________________:=._o \\\"=._.\\\"_.-=\\\"'\\\"=.__________________|_______\n",
    "|                   |    __.--\\\" , ; `\\\"=._o.\\\" ,-\\\"\\\"\\\"-._ \\\".   |\n",
    "|___________________|_._\\\"  ,. .` ` `` ,  `\\\"-._\\\"-._   \\\". '__|___________________\n",
    "          |           |o`\\\"=._` , \\\"` `; .\\\". ,  \\\"-._\\\"-._; ;              |\n",
    " _________|___________| ;`-.o`\\\"=._; .\\\" ` '`.\\\"\\` . \\\"-._ /_______________|_______\n",
    "|                   | |o;    `\\\"-.o`\\\"=._``  '` \\\" ,__.--o;   |\n",
    "|___________________|_| ;     (#) `-.o `\\\"=.`_.--\\\"_o.-; ;___|___________________\n",
    "____/______/______/___|o;._    \\\"      `\\\".o|o_.--\\\"    ;o;____/______/______/____\n",
    "/______/______/______/_\\\"=._o--._        ; | ;        ; ;/______/______/______/_\n",
    "____/______/______/______/__\\\"=._o--._   ;o|o;     _._;o;____/______/______/____\n",
    "/______/______/______/______/____\\\"=._o._; | ;_.--\\\"o.--\\\"_/______/______/______/_\n",
    "____/______/______/______/______/_____\\\"=.o|o_.--\\\"\\\"___/______/______/______/____\n",
    "/______/______/______/______/______/______/______/______/______/______/_______\n",
    "*******************************************************************************\n",
    "\"\"\")\n",
    "# The \"\"\"  allow you to create multiple lines of a string\n",
    "\n",
    "print(\"Welcome to Treasure Island.\")\n",
    "print (\"Your mission is to find the treasure.\")\n",
    "choice1 = input('You\\’re at a crossroads, where do you want to go? Type \"left\" or \"right\".').lower()\n",
    "if choice1 == \"left\":\n",
    "    choice2 = input('You\\'ve come to a lake. There is an island in the middle of the lake. Type \"wait\" to wait for a boat. Type \"swim\" to swim across.').lower()\n",
    "    if choice2 == \"wait\":\n",
    "        choice3 = input(\"You arrive at the island unharmed. There is a house with 3 doors. One red, one yellow and one blue. Which color do you choose?\").lower()\n",
    "        if choice3 == \"red\":\n",
    "            print(\"It’s a room full of fire. Game Over.\")\n",
    "        elif choice3 == \"yellow\":\n",
    "            print(\"You found the treasure. You Win.\")\n",
    "        elif choice3 == \"blue\":\n",
    "            print(\"You enter a room full of beasts. Game Over.\")\n",
    "    else:\n",
    "        print(\"You got attacked by an angry trout. Game Over.\")\n",
    "else: \n",
    "\tprint(\"You fell into a hole. Game Over.\")"
   ]
  },
  {
   "cell_type": "markdown",
   "metadata": {},
   "source": [
    "### Day 4: Randomization and Python Lists"
   ]
  },
  {
   "cell_type": "markdown",
   "metadata": {},
   "source": [
    "#### Randomization \n",
    "- When we want computer programs that have a degree of unpredictability (games)\n",
    "- Computers are deterministic, they will perform repeatable actions in a fully predictable way "
   ]
  },
  {
   "cell_type": "code",
   "execution_count": 24,
   "metadata": {},
   "outputs": [
    {
     "name": "stdout",
     "output_type": "stream",
     "text": [
      "3\n"
     ]
    }
   ],
   "source": [
    "import random # module\n",
    "random_integer = random.randint(1,10) # randit is the function \n",
    "print(random_integer)\n",
    "\n",
    "# randit(a,b) returns a random integer between a and b\n"
   ]
  },
  {
   "cell_type": "markdown",
   "metadata": {},
   "source": [
    "#### Modules: \n",
    "- are imported, contain functions that you can use\n",
    "- helps to split code up by functionality \n"
   ]
  },
  {
   "cell_type": "markdown",
   "metadata": {},
   "source": [
    "#### Lists\n",
    "can have positive and negative indices \n",
    "- ex: print(states_of_america[0]) would print Delaware but print(states_of_america[-1]) would print Hawaii \n",
    "\n",
    "can also change the items in the list\n",
    "- ex: states_of_america[0] = Not Delaware would \n",
    "\n",
    "to add something to the end of the list you can append \n",
    "- ex: states_of_america.append(\"ErinLand\")\n",
    "- for more than one item: states_of_america.extend(\"ErinLand\", \"JamesLand\")\n",
    "\n",
    "\n",
    "\n"
   ]
  },
  {
   "cell_type": "code",
   "execution_count": null,
   "metadata": {},
   "outputs": [],
   "source": []
  },
  {
   "cell_type": "markdown",
   "metadata": {},
   "source": [
    "#### Errors: \n",
    "\n",
    "Index out of range: \n",
    "- states_of_america = [Delaware, Pennslyvania, etc, ....., Hawaii]\n",
    "- num_of_states = len(states_of_america) \n",
    "- if you try: print(states_of_america[num_of_states - 1]) you'll get the error\n",
    "\n",
    "to solve the error: \n",
    "- print(states_of_america[num_of_states - 1])\n",
    "\n",
    "\n"
   ]
  },
  {
   "cell_type": "markdown",
   "metadata": {},
   "source": [
    "# Vocab: \n",
    "string concatenation: combining two string\n",
    "\n",
    "subscripting: the method of pulling out a particular element from a string\n",
    "\n"
   ]
  },
  {
   "cell_type": "markdown",
   "metadata": {},
   "source": [
    "# Functions: \n",
    "print() : print in string format \n",
    "- print(type()) : will tell you what type of data the variable in the () is \n",
    "\n",
    "input() : allows user input \n",
    "\n",
    "len()   : get the length of a string\n",
    "\n",
    "round() : round a decimal value to two decimal places \n",
    "- ex: round(8 / 3, 2)\n",
    "\n",
    "append(object) : to the end of a list \n",
    "\n",
    "\n",
    "# Methods: \n",
    "\n",
    "lower() : converts all uppercase characters in a string into lowercase \n",
    "\n",
    "# Modules: \n",
    "\n",
    "random : python randomization module (random.randit(a,b))\n",
    "\n",
    "\n"
   ]
  },
  {
   "cell_type": "markdown",
   "metadata": {},
   "source": [
    "# Things to remember: \n",
    "\n",
    "To toggle booleans use ~"
   ]
  },
  {
   "cell_type": "markdown",
   "metadata": {},
   "source": [
    "# "
   ]
  },
  {
   "cell_type": "code",
   "execution_count": null,
   "metadata": {},
   "outputs": [],
   "source": []
  }
 ],
 "metadata": {
  "kernelspec": {
   "display_name": "Python 3",
   "language": "python",
   "name": "python3"
  },
  "language_info": {
   "codemirror_mode": {
    "name": "ipython",
    "version": 3
   },
   "file_extension": ".py",
   "mimetype": "text/x-python",
   "name": "python",
   "nbconvert_exporter": "python",
   "pygments_lexer": "ipython3",
   "version": "3.9.6"
  }
 },
 "nbformat": 4,
 "nbformat_minor": 2
}
